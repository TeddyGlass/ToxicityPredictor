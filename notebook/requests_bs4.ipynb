{
 "cells": [
  {
   "cell_type": "code",
   "execution_count": 4,
   "metadata": {},
   "outputs": [],
   "source": [
    "import requests\n",
    "from bs4 import BeautifulSoup\n",
    "import time"
   ]
  },
  {
   "cell_type": "code",
   "execution_count": 101,
   "metadata": {},
   "outputs": [
    {
     "name": "stdout",
     "output_type": "stream",
     "text": [
      "<Response [200]>\n"
     ]
    },
    {
     "ename": "HTTPError",
     "evalue": "404 Client Error: Not Found for url: http://mmi-03.my-pharm.ac.jp/tox1/prediction_groups/new",
     "output_type": "error",
     "traceback": [
      "\u001b[0;31m---------------------------------------------------------------------------\u001b[0m",
      "\u001b[0;31mHTTPError\u001b[0m                                 Traceback (most recent call last)",
      "\u001b[1;32m/mnt/c/Users/mmi-05/Documents/code/ToxicityPredictor/notebook/hogehoge.ipynb Cell 2'\u001b[0m in \u001b[0;36m<cell line: 7>\u001b[0;34m()\u001b[0m\n\u001b[1;32m     <a href='vscode-notebook-cell://wsl%2Bubuntu-20.04/mnt/c/Users/mmi-05/Documents/code/ToxicityPredictor/notebook/hogehoge.ipynb#ch0000011vscode-remote?line=26'>27</a>\u001b[0m file \u001b[39m=\u001b[39m {\u001b[39m'\u001b[39m\u001b[39msmiles_list\u001b[39m\u001b[39m'\u001b[39m: \u001b[39mopen\u001b[39m(f_name, \u001b[39m'\u001b[39m\u001b[39mrb\u001b[39m\u001b[39m'\u001b[39m)} \n\u001b[1;32m     <a href='vscode-notebook-cell://wsl%2Bubuntu-20.04/mnt/c/Users/mmi-05/Documents/code/ToxicityPredictor/notebook/hogehoge.ipynb#ch0000011vscode-remote?line=27'>28</a>\u001b[0m response \u001b[39m=\u001b[39m s\u001b[39m.\u001b[39mpost(\n\u001b[1;32m     <a href='vscode-notebook-cell://wsl%2Bubuntu-20.04/mnt/c/Users/mmi-05/Documents/code/ToxicityPredictor/notebook/hogehoge.ipynb#ch0000011vscode-remote?line=28'>29</a>\u001b[0m     input_url,\n\u001b[1;32m     <a href='vscode-notebook-cell://wsl%2Bubuntu-20.04/mnt/c/Users/mmi-05/Documents/code/ToxicityPredictor/notebook/hogehoge.ipynb#ch0000011vscode-remote?line=29'>30</a>\u001b[0m     files\u001b[39m=\u001b[39mfile\n\u001b[1;32m     <a href='vscode-notebook-cell://wsl%2Bubuntu-20.04/mnt/c/Users/mmi-05/Documents/code/ToxicityPredictor/notebook/hogehoge.ipynb#ch0000011vscode-remote?line=30'>31</a>\u001b[0m )\n\u001b[0;32m---> <a href='vscode-notebook-cell://wsl%2Bubuntu-20.04/mnt/c/Users/mmi-05/Documents/code/ToxicityPredictor/notebook/hogehoge.ipynb#ch0000011vscode-remote?line=31'>32</a>\u001b[0m response\u001b[39m.\u001b[39;49mraise_for_status()\n",
      "File \u001b[0;32m~/miniconda3/envs/toxpred/lib/python3.8/site-packages/requests/models.py:960\u001b[0m, in \u001b[0;36mResponse.raise_for_status\u001b[0;34m(self)\u001b[0m\n\u001b[1;32m    <a href='file:///home/teddy/miniconda3/envs/toxpred/lib/python3.8/site-packages/requests/models.py?line=956'>957</a>\u001b[0m     http_error_msg \u001b[39m=\u001b[39m \u001b[39mu\u001b[39m\u001b[39m'\u001b[39m\u001b[39m%s\u001b[39;00m\u001b[39m Server Error: \u001b[39m\u001b[39m%s\u001b[39;00m\u001b[39m for url: \u001b[39m\u001b[39m%s\u001b[39;00m\u001b[39m'\u001b[39m \u001b[39m%\u001b[39m (\u001b[39mself\u001b[39m\u001b[39m.\u001b[39mstatus_code, reason, \u001b[39mself\u001b[39m\u001b[39m.\u001b[39murl)\n\u001b[1;32m    <a href='file:///home/teddy/miniconda3/envs/toxpred/lib/python3.8/site-packages/requests/models.py?line=958'>959</a>\u001b[0m \u001b[39mif\u001b[39;00m http_error_msg:\n\u001b[0;32m--> <a href='file:///home/teddy/miniconda3/envs/toxpred/lib/python3.8/site-packages/requests/models.py?line=959'>960</a>\u001b[0m     \u001b[39mraise\u001b[39;00m HTTPError(http_error_msg, response\u001b[39m=\u001b[39m\u001b[39mself\u001b[39m)\n",
      "\u001b[0;31mHTTPError\u001b[0m: 404 Client Error: Not Found for url: http://mmi-03.my-pharm.ac.jp/tox1/prediction_groups/new"
     ]
    }
   ],
   "source": [
    "user_name = \n",
    "user_password = \n",
    "login_url = 'http://mmi-03.my-pharm.ac.jp/tox1/users/sign_in'\n",
    "input_url = 'http://mmi-03.my-pharm.ac.jp/tox1/prediction_groups/new'\n",
    "\n",
    "# start session\n",
    "with requests.Session() as s:\n",
    "    ###################login###################\n",
    "    response = s.get(login_url)\n",
    "    # analize\n",
    "    soup = BeautifulSoup(response.text, 'html.parser')\n",
    "    # login form\n",
    "    login_form = {\n",
    "        item.get('name'):item.get('value')\n",
    "        for item in soup.find_all('input')\n",
    "    }\n",
    "    login_form['user[email]'] = user_name\n",
    "    login_form['user[password]'] = user_password\n",
    "    # post\n",
    "    response = s.post(login_url, login_form)\n",
    "    ############################################\n",
    "    ###################input###################\n",
    "    print(s.get(input_url))\n",
    "    soup = BeautifulSoup(response.text, 'html.parser')\n",
    "    # open file\n",
    "    f_name = '../data/sample.csv'\n",
    "    file = {'smiles_list': open(f_name, 'rb')} \n",
    "    response = s.post(\n",
    "        input_url,\n",
    "        files=file\n",
    "    )\n",
    "    response.raise_for_status()"
   ]
  },
  {
   "cell_type": "code",
   "execution_count": 102,
   "metadata": {},
   "outputs": [
    {
     "data": {
      "text/plain": [
       "'<!DOCTYPE html>\\n<html>\\n<head>\\n  <title>The page you were looking for doesn\\'t exist (404)</title>\\n  <meta name=\"viewport\" content=\"width=device-width,initial-scale=1\">\\n  <style>\\n  .rails-default-error-page {\\n    background-color: #EFEFEF;\\n    color: #2E2F30;\\n    text-align: center;\\n    font-family: arial, sans-serif;\\n    margin: 0;\\n  }\\n\\n  .rails-default-error-page div.dialog {\\n    width: 95%;\\n    max-width: 33em;\\n    margin: 4em auto 0;\\n  }\\n\\n  .rails-default-error-page div.dialog > div {\\n    border: 1px solid #CCC;\\n    border-right-color: #999;\\n    border-left-color: #999;\\n    border-bottom-color: #BBB;\\n    border-top: #B00100 solid 4px;\\n    border-top-left-radius: 9px;\\n    border-top-right-radius: 9px;\\n    background-color: white;\\n    padding: 7px 12% 0;\\n    box-shadow: 0 3px 8px rgba(50, 50, 50, 0.17);\\n  }\\n\\n  .rails-default-error-page h1 {\\n    font-size: 100%;\\n    color: #730E15;\\n    line-height: 1.5em;\\n  }\\n\\n  .rails-default-error-page div.dialog > p {\\n    margin: 0 0 1em;\\n    padding: 1em;\\n    background-color: #F7F7F7;\\n    border: 1px solid #CCC;\\n    border-right-color: #999;\\n    border-left-color: #999;\\n    border-bottom-color: #999;\\n    border-bottom-left-radius: 4px;\\n    border-bottom-right-radius: 4px;\\n    border-top-color: #DADADA;\\n    color: #666;\\n    box-shadow: 0 3px 8px rgba(50, 50, 50, 0.17);\\n  }\\n  </style>\\n</head>\\n\\n<body class=\"rails-default-error-page\">\\n  <!-- This file lives in public/404.html -->\\n  <div class=\"dialog\">\\n    <div>\\n      <h1>The page you were looking for doesn\\'t exist.</h1>\\n      <p>You may have mistyped the address or the page may have moved.</p>\\n    </div>\\n    <p>If you are the application owner check the logs for more information.</p>\\n  </div>\\n</body>\\n</html>\\n'"
      ]
     },
     "execution_count": 102,
     "metadata": {},
     "output_type": "execute_result"
    }
   ],
   "source": [
    "response.text"
   ]
  },
  {
   "cell_type": "code",
   "execution_count": 104,
   "metadata": {},
   "outputs": [
    {
     "data": {
      "text/plain": [
       "<Response [404]>"
      ]
     },
     "execution_count": 104,
     "metadata": {},
     "output_type": "execute_result"
    }
   ],
   "source": [
    "# requests.get('http://mmi-03.my-pharm.ac.jp/tox1/prediction_groups/new')\n",
    "requests.post('http://mmi-03.my-pharm.ac.jp/tox1/prediction_groups/new')"
   ]
  },
  {
   "cell_type": "code",
   "execution_count": null,
   "metadata": {},
   "outputs": [],
   "source": []
  }
 ],
 "metadata": {
  "interpreter": {
   "hash": "a09cec595e0c2e8b7331b5bc7370191b064d92a00fc6b159b948f0407656d7b3"
  },
  "kernelspec": {
   "display_name": "Python 3.8.13 ('toxpred')",
   "language": "python",
   "name": "python3"
  },
  "language_info": {
   "codemirror_mode": {
    "name": "ipython",
    "version": 3
   },
   "file_extension": ".py",
   "mimetype": "text/x-python",
   "name": "python",
   "nbconvert_exporter": "python",
   "pygments_lexer": "ipython3",
   "version": "3.8.13"
  },
  "orig_nbformat": 4
 },
 "nbformat": 4,
 "nbformat_minor": 2
}
