{
 "cells": [
  {
   "cell_type": "code",
   "execution_count": 2,
   "metadata": {},
   "outputs": [],
   "source": [
    "import requests\n",
    "from selenium import webdriver\n",
    "from bs4 import BeautifulSoup"
   ]
  },
  {
   "cell_type": "code",
   "execution_count": 3,
   "metadata": {},
   "outputs": [],
   "source": [
    "url = 'http://mmi-03.my-pharm.ac.jp/tox1/prediction_groups/new'\n",
    "res = requests.get(url)"
   ]
  },
  {
   "cell_type": "code",
   "execution_count": 8,
   "metadata": {},
   "outputs": [],
   "source": [
    "soup = BeautifulSoup(res.text, \"html.parser\")"
   ]
  },
  {
   "cell_type": "code",
   "execution_count": 9,
   "metadata": {},
   "outputs": [
    {
     "data": {
      "text/plain": [
       "'\\n\\n\\n\\nToxicity Predictor\\n\\n\\n\\n\\n\\n\\n\\n\\n\\n\\nToxicity Predictor v1.5\\n\\n\\n\\n\\n\\n\\nHome\\n\\n\\nPrediction Results\\n\\n\\nAbout Models\\n\\n\\nUser Guide\\n\\n\\n(Japanese)\\n\\n\\n\\n\\n\\nUser: Guest\\n\\n\\n\\nSign in\\n\\n\\nSign up\\n\\n\\n\\n\\n\\n\\n\\n\\n\\n\\n\\n\\n\\nDraw Structure\\n\\n\\n\\n\\nUpload SDF\\n\\n\\n\\n\\nUpload SMILES List\\n\\n\\n\\n\\n\\n\\n\\n\\n\\n\\n\\nPredict\\n\\n\\n\\n\\n\\n\\n\\n\\n\\n\\n\\n\\n\\n\\n\\n\\n\\n\\n\\n\\n\\n\\n\\n\\nUploaded file should contain one SMILES for each line\\n\\n\\n\\n\\n\\n\\n\\n\\n\\n\\n\\n\\n\\nThis system was built using the adverse effect database JAPIC AERS.\\n\\n\\n\\n\\n'"
      ]
     },
     "execution_count": 9,
     "metadata": {},
     "output_type": "execute_result"
    }
   ],
   "source": [
    "soup."
   ]
  }
 ],
 "metadata": {
  "interpreter": {
   "hash": "a09cec595e0c2e8b7331b5bc7370191b064d92a00fc6b159b948f0407656d7b3"
  },
  "kernelspec": {
   "display_name": "Python 3.8.13 ('toxpred')",
   "language": "python",
   "name": "python3"
  },
  "language_info": {
   "codemirror_mode": {
    "name": "ipython",
    "version": 3
   },
   "file_extension": ".py",
   "mimetype": "text/x-python",
   "name": "python",
   "nbconvert_exporter": "python",
   "pygments_lexer": "ipython3",
   "version": "3.8.13"
  },
  "orig_nbformat": 4
 },
 "nbformat": 4,
 "nbformat_minor": 2
}
