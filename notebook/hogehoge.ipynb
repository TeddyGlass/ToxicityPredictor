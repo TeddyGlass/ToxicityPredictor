{
 "cells": [
  {
   "cell_type": "code",
   "execution_count": 1,
   "metadata": {},
   "outputs": [],
   "source": [
    "import requests\n",
    "from bs4 import BeautifulSoup\n",
    "import time"
   ]
  },
  {
   "cell_type": "code",
   "execution_count": 8,
   "metadata": {},
   "outputs": [],
   "source": [
    "# start session\n",
    "session = requests.Session()\n",
    "response = session.get(login_url)\n",
    "# analize\n",
    "soup = BeautifulSoup(response.text, 'html.parser')\n",
    "# login form\n",
    "login_form = {\n",
    "    item.get('name'):item.get('value')\n",
    "    for item in soup.find_all('input')\n",
    "}\n",
    "login_form['identity'] = user_name\n",
    "login_form['password'] = user_password\n",
    "# post\n",
    "result = session.post(login_url, login_form)\n",
    "time.sleep(2)\n",
    "result.raise_for_status()"
   ]
  },
  {
   "cell_type": "code",
   "execution_count": null,
   "metadata": {},
   "outputs": [],
   "source": []
  }
 ],
 "metadata": {
  "interpreter": {
   "hash": "00272d1b14070adba10c11c2c682b23fc7b2bf2f43e205061b97cf726dadc4ff"
  },
  "kernelspec": {
   "display_name": "Python 3.8.5 ('WebScraping')",
   "language": "python",
   "name": "python3"
  },
  "language_info": {
   "codemirror_mode": {
    "name": "ipython",
    "version": 3
   },
   "file_extension": ".py",
   "mimetype": "text/x-python",
   "name": "python",
   "nbconvert_exporter": "python",
   "pygments_lexer": "ipython3",
   "version": "3.8.5"
  },
  "orig_nbformat": 4
 },
 "nbformat": 4,
 "nbformat_minor": 2
}
