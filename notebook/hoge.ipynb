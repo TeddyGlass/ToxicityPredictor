{
 "cells": [
  {
   "cell_type": "code",
   "execution_count": 5,
   "metadata": {},
   "outputs": [],
   "source": [
    "import requests as req\n",
    "from bs4 import BeautifulSoup\n",
    "import time"
   ]
  },
  {
   "cell_type": "code",
   "execution_count": 15,
   "metadata": {},
   "outputs": [
    {
     "name": "stdout",
     "output_type": "stream",
     "text": [
      "----------------------------------------------------------------------------------------------------\n",
      "input params\n",
      "{'authenticity_token': 'sDJTJvfPyBkxxs7eEQGR0SaYxxxNtNF9bJiRoNf/y2nhpyX1K20CzdWAwvT1t/162z3AqCm/kG4MFc82/suVRw==', 'identity': None, 'password': None, 'commit': 'Log in to Qiita'}\n",
      "----------------------------------------------------------------------------------------------------\n",
      "{'authenticity_token': 'sDJTJvfPyBkxxs7eEQGR0SaYxxxNtNF9bJiRoNf/y2nhpyX1K20CzdWAwvT1t/162z3AqCm/kG4MFc82/suVRw==', 'identity': 'kuro3210', 'password': 'furanku3', 'commit': 'Log in to Qiita'}\n",
      "----------------------------------------------------------------------------------------------------\n"
     ]
    }
   ],
   "source": [
    "loin_url = 'https://qiita.com/login?redirectTo=%2F'\n",
    "res = req.get(loin_url)\n",
    "if res.ok:\n",
    "    soup = BeautifulSoup(res.text, 'xml')\n",
    "    html = soup.prettify()\n",
    "    with open('toxicity_predictor_login.txt', 'w') as f:\n",
    "        f.write(html)\n",
    "    data = {}\n",
    "    for input in soup.find_all('input'):\n",
    "        data[input.get('name')] = input.get('value')\n",
    "    \n",
    "    print('-'*100)\n",
    "    print('input params')\n",
    "    print(data)\n",
    "    print('-'*100)\n",
    "    # print('update input params')\n",
    "    print(data)\n",
    "    print('-'*100)\n",
    "\n",
    "    # # login session\n",
    "    time.sleep(2)\n",
    "    with req.session() as s:\n",
    "        res = s.post(\n",
    "            loin_url,\n",
    "            params=data\n",
    "            )\n",
    "        time.sleep(2)\n",
    "        with open('hoge.txt', 'w') as f:\n",
    "            f.write(res.text)"
   ]
  },
  {
   "cell_type": "code",
   "execution_count": null,
   "metadata": {},
   "outputs": [],
   "source": []
  }
 ],
 "metadata": {
  "interpreter": {
   "hash": "a09cec595e0c2e8b7331b5bc7370191b064d92a00fc6b159b948f0407656d7b3"
  },
  "kernelspec": {
   "display_name": "Python 3.8.13 ('toxpred')",
   "language": "python",
   "name": "python3"
  },
  "language_info": {
   "codemirror_mode": {
    "name": "ipython",
    "version": 3
   },
   "file_extension": ".py",
   "mimetype": "text/x-python",
   "name": "python",
   "nbconvert_exporter": "python",
   "pygments_lexer": "ipython3",
   "version": "3.8.13"
  },
  "orig_nbformat": 4
 },
 "nbformat": 4,
 "nbformat_minor": 2
}
